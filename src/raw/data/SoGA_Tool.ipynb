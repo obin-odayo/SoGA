{
 "cells": [
  {
   "cell_type": "markdown",
   "metadata": {},
   "source": [
    "# SoGA Dataset Tool\n",
    "* Zhean \"Obi\" Ganituen\n",
    "* Created On: January 29, 2024\n",
    "* Last Updated: January 29, 2024\n",
    "\n",
    "> Dependencies: python (pandas, jupyter notebook)"
   ]
  },
  {
   "cell_type": "code",
   "execution_count": 70,
   "metadata": {},
   "outputs": [
    {
     "name": "stdout",
     "output_type": "stream",
     "text": [
      "Error: use `convert()` command\n",
      "Tool done.\n"
     ]
    }
   ],
   "source": [
    "# Tool for Viewing the data set using Pandas\n",
    "\n",
    "import pandas as pd  # import pandas\n",
    "import re  # import regex\n",
    "\n",
    "# dictionary of categories in the data sheet.\n",
    "categories = {\n",
    "    1: \"Baseline_Life_Expectancy\",\n",
    "    2: \"Air_Pollution\",\n",
    "    3: \"Ambient_PM\",\n",
    "    4: \"Ozone\",\n",
    "    5: \"Household_AP\",\n",
    "    6: \"Environmental_Occupational_Hazard\",\n",
    "    7: \"Occupational_Hazard\",\n",
    "    8: \"Unsafe_Hand_Washing\",\n",
    "    9: \"Metabolic_Syndrome\",\n",
    "    10: \"Deitary\",\n",
    "    11: \"High_Fasting_Plasma_Glucose/Sugar\",\n",
    "    12: \"Tobacco\",\n",
    "    13: \"Smoking\",\n",
    "    14: \"Secondhand_Smoke\",\n",
    "    15: \"Unsafe_Sex\",\n",
    "}\n",
    "\n",
    "# read the data frame\n",
    "try:\n",
    "    df = pd.read_csv(\"out.csv\", index_col=0)\n",
    "except FileNotFoundError:\n",
    "    print(\"SoGa Tool Error: use `convert()` command\")\n",
    "\n",
    "\"\"\"\n",
    "convert\n",
    "    For converting the text file from AnimoSpace to a workable .csv file.\n",
    "\n",
    "    @param:\n",
    "    - None\n",
    "\"\"\"\n",
    "def convert():\n",
    "    with open(\"SoGA_AnnotatedData.txt\", \"r\") as data, open(\"out.csv\", \"w\") as output:\n",
    "        for line in data:\n",
    "            outputLine = re.sub(r\"[ \\t]+\", \",\", line.strip())\n",
    "            output.write(outputLine + \"\\n\")\n",
    "\n",
    "        print(\"SoGA Tool: Conversion done.\")\n",
    "\n",
    "\"\"\"\n",
    "viewCat\n",
    "    For viewing the data of all the countries for a category.\n",
    "    Then, returns it.\n",
    "\n",
    "    @param:\n",
    "    - catNum (int): category number from the categories dictionary.\n",
    "\"\"\"\n",
    "def viewCat(catNum):\n",
    "    return df[categories[catNum]]\n",
    "\n",
    "\"\"\"\n",
    "country\n",
    "    For viewing all the data for a specific country.\n",
    "\n",
    "    @param:\n",
    "    - countryName (string): name of the country.\n",
    "\n",
    "\"\"\"\n",
    "def country(countryName):\n",
    "    return df.loc[countryName]\n",
    "\n",
    "if __name__ == \"__main__\":\n",
    "    print(\"SoGA Tool: Done.\")"
   ]
  }
 ],
 "metadata": {
  "kernelspec": {
   "display_name": "Python 3",
   "language": "python",
   "name": "python3"
  },
  "language_info": {
   "codemirror_mode": {
    "name": "ipython",
    "version": 3
   },
   "file_extension": ".py",
   "mimetype": "text/x-python",
   "name": "python",
   "nbconvert_exporter": "python",
   "pygments_lexer": "ipython3",
   "version": "3.12.1"
  }
 },
 "nbformat": 4,
 "nbformat_minor": 2
}
